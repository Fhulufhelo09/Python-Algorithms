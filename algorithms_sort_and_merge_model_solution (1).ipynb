<<<<<<< HEAD
{
 "cells": [
  {
   "cell_type": "markdown",
   "metadata": {},
   "source": [
    "\n",
    "\n",
=======

>>>>>>> 56b11ba543781de26a0c356913290b25a42688b6
    "## Challenge\n",
    "\n",
    "Given two lists sorted in increasing order, create and return a merged list of all the elements in sorted order. You may modify the passed in lists. <br>\n",
    "Ideally, the solution should work in \"linear\" time, making a single pass through each list. Please note that Python's sorting functions are slower than linear time."
   ]
  },
  {
   "cell_type": "code",
   "execution_count": 1,
   "metadata": {
    "collapsed": true,
    "jupyter": {
     "outputs_hidden": true
    }
   },
   "outputs": [],
   "source": [
    "### START FUNCTION\n",
    "def linear_merge(list1, list2):    \n",
    "    new_list = []\n",
    "    \n",
    "    # while neither list is empty\n",
    "    while len(list1) != 0 and len(list2) != 0:\n",
    "        \n",
    "        # if the first item in list1 is smaller\n",
    "        if list1[0] < list2[0]:\n",
    "            # add it to the merged list\n",
    "            new_list.append(list1[0])\n",
    "            # then remove it from list1\n",
    "            del list1[0]\n",
    "        \n",
    "        # if the first item in list2 is smaller\n",
    "        else:\n",
    "            # add it to the merged list\n",
    "            new_list.append(list2[0])\n",
    "            # then remove it from list2\n",
    "            del list2[0]\n",
    "    \n",
    "    # return the merged list, plus anything that remains in list1 and list2\n",
    "    return new_list + list1 + list2\n",
    "### END FUNCTION"
   ]
  },
  {
   "cell_type": "code",
   "execution_count": 2,
   "metadata": {},
   "outputs": [
    {
     "data": {
      "text/plain": [
       "['aa', 'bb', 'cc', 'xx', 'zz']"
      ]
     },
     "execution_count": 2,
     "metadata": {},
     "output_type": "execute_result"
    }
   ],
   "source": [
    "linear_merge(['aa', 'xx', 'zz'], ['bb', 'cc'])"
   ]
  },
  {
   "cell_type": "markdown",
   "metadata": {},
   "source": [
    "_**Expected Outputs**_ \n",
    "```python\n",
    "linear_merge(['aa', 'xx', 'zz'], ['bb', 'cc'])) == ['aa', 'bb', 'cc', 'xx', 'zz']\n",
    "linear_merge(['searching', 'sorting', 'van'], ['apple', 'small']) == ['apple', 'searching', 'small', 'sorting', 'van']\n",
    "linear_merge(['hello', 'world'], ['funny', 'giant', 'zoo']) == ['funny', 'giant', 'hello', 'world', 'zoo']\n",
    "linear_merge(['patch', 'tour', 'yak', 'zombie'], ['egg', 'stall']) == ['egg', 'patch', 'stall', 'tour', 'yak', 'zombie']\n",
    "linear_merge(['aab', 'aad', 'aaf'], ['aac', 'aae']) == ['aab', 'aac', 'aad', 'aae', 'aaf']\n",
    "```"
   ]
  },
  {
   "cell_type": "markdown",
   "metadata": {},
   "source": [
    "## References\n",
    "\n",
    "Parts of this tutorial was created using the wonderful [Google Python Developers](https://developers.google.com/edu/python/) course, and has been modified under the [Creative Common's licence 2.5](https://creativecommons.org/licenses/by/2.5/) \n",
    "\n",
    "Copyright 2010 Google Inc.\n",
    "Licensed under the Apache License, Version 2.0\n",
    "http://www.apache.org/licenses/LICENSE-2.0\n",
    "\n",
    "Google's Python Class\n",
    "http://code.google.com/edu/languages/google-python-class/"
   ]
  }
 ],
 "metadata": {
  "kernelspec": {
   "display_name": "Python 3",
   "language": "python",
   "name": "python3"
  },
  "language_info": {
   "codemirror_mode": {
    "name": "ipython",
    "version": 3
   },
   "file_extension": ".py",
   "mimetype": "text/x-python",
   "name": "python",
   "nbconvert_exporter": "python",
   "pygments_lexer": "ipython3",
   "version": "3.8.8"
  }
 },
 "nbformat": 4,
 "nbformat_minor": 4
}
